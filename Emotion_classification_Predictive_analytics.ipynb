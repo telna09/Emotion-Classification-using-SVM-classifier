{
  "nbformat": 4,
  "nbformat_minor": 0,
  "metadata": {
    "colab": {
      "provenance": []
    },
    "kernelspec": {
      "name": "python3",
      "display_name": "Python 3"
    },
    "language_info": {
      "name": "python"
    }
  },
  "cells": [
    {
      "cell_type": "markdown",
      "source": [
        "# **LOADING DATASET**"
      ],
      "metadata": {
        "id": "uz52u-ZctGKH"
      }
    },
    {
      "cell_type": "code",
      "execution_count": null,
      "metadata": {
        "colab": {
          "base_uri": "https://localhost:8080/",
          "height": 2555
        },
        "id": "maq5NQw2QRqr",
        "outputId": "7d79b721-56e7-4c1b-eea2-b79d72fec520"
      },
      "outputs": [
        {
          "output_type": "execute_result",
          "data": {
            "text/plain": [
              "                                                     text  label\n",
              "0           i just feel really helpless and heavy hearted      4\n",
              "1       ive enjoyed being able to slouch about relax a...      0\n",
              "2       i gave up my internship with the dmrg and am f...      4\n",
              "3                              i dont know i feel so lost      0\n",
              "4       i am a kindergarten teacher and i am thoroughl...      4\n",
              "...                                                   ...    ...\n",
              "416804  i feel like telling these horny devils to find...      2\n",
              "416805  i began to realize that when i was feeling agi...      3\n",
              "416806  i feel very curious be why previous early dawn...      5\n",
              "416807  i feel that becuase of the tyranical nature of...      3\n",
              "416808  i think that after i had spent some time inves...      5\n",
              "\n",
              "[416809 rows x 2 columns]"
            ],
            "text/html": [
              "\n",
              "  <div id=\"df-84c47794-87b3-4cb4-9576-bdfa4649a773\" class=\"colab-df-container\">\n",
              "    <div>\n",
              "<style scoped>\n",
              "    .dataframe tbody tr th:only-of-type {\n",
              "        vertical-align: middle;\n",
              "    }\n",
              "\n",
              "    .dataframe tbody tr th {\n",
              "        vertical-align: top;\n",
              "    }\n",
              "\n",
              "    .dataframe thead th {\n",
              "        text-align: right;\n",
              "    }\n",
              "</style>\n",
              "<table border=\"1\" class=\"dataframe\">\n",
              "  <thead>\n",
              "    <tr style=\"text-align: right;\">\n",
              "      <th></th>\n",
              "      <th>text</th>\n",
              "      <th>label</th>\n",
              "    </tr>\n",
              "  </thead>\n",
              "  <tbody>\n",
              "    <tr>\n",
              "      <th>0</th>\n",
              "      <td>i just feel really helpless and heavy hearted</td>\n",
              "      <td>4</td>\n",
              "    </tr>\n",
              "    <tr>\n",
              "      <th>1</th>\n",
              "      <td>ive enjoyed being able to slouch about relax a...</td>\n",
              "      <td>0</td>\n",
              "    </tr>\n",
              "    <tr>\n",
              "      <th>2</th>\n",
              "      <td>i gave up my internship with the dmrg and am f...</td>\n",
              "      <td>4</td>\n",
              "    </tr>\n",
              "    <tr>\n",
              "      <th>3</th>\n",
              "      <td>i dont know i feel so lost</td>\n",
              "      <td>0</td>\n",
              "    </tr>\n",
              "    <tr>\n",
              "      <th>4</th>\n",
              "      <td>i am a kindergarten teacher and i am thoroughl...</td>\n",
              "      <td>4</td>\n",
              "    </tr>\n",
              "    <tr>\n",
              "      <th>...</th>\n",
              "      <td>...</td>\n",
              "      <td>...</td>\n",
              "    </tr>\n",
              "    <tr>\n",
              "      <th>416804</th>\n",
              "      <td>i feel like telling these horny devils to find...</td>\n",
              "      <td>2</td>\n",
              "    </tr>\n",
              "    <tr>\n",
              "      <th>416805</th>\n",
              "      <td>i began to realize that when i was feeling agi...</td>\n",
              "      <td>3</td>\n",
              "    </tr>\n",
              "    <tr>\n",
              "      <th>416806</th>\n",
              "      <td>i feel very curious be why previous early dawn...</td>\n",
              "      <td>5</td>\n",
              "    </tr>\n",
              "    <tr>\n",
              "      <th>416807</th>\n",
              "      <td>i feel that becuase of the tyranical nature of...</td>\n",
              "      <td>3</td>\n",
              "    </tr>\n",
              "    <tr>\n",
              "      <th>416808</th>\n",
              "      <td>i think that after i had spent some time inves...</td>\n",
              "      <td>5</td>\n",
              "    </tr>\n",
              "  </tbody>\n",
              "</table>\n",
              "<p>416809 rows × 2 columns</p>\n",
              "</div>\n",
              "    <div class=\"colab-df-buttons\">\n",
              "\n",
              "  <div class=\"colab-df-container\">\n",
              "    <button class=\"colab-df-convert\" onclick=\"convertToInteractive('df-84c47794-87b3-4cb4-9576-bdfa4649a773')\"\n",
              "            title=\"Convert this dataframe to an interactive table.\"\n",
              "            style=\"display:none;\">\n",
              "\n",
              "  <svg xmlns=\"http://www.w3.org/2000/svg\" height=\"24px\" viewBox=\"0 -960 960 960\">\n",
              "    <path d=\"M120-120v-720h720v720H120Zm60-500h600v-160H180v160Zm220 220h160v-160H400v160Zm0 220h160v-160H400v160ZM180-400h160v-160H180v160Zm440 0h160v-160H620v160ZM180-180h160v-160H180v160Zm440 0h160v-160H620v160Z\"/>\n",
              "  </svg>\n",
              "    </button>\n",
              "\n",
              "  <style>\n",
              "    .colab-df-container {\n",
              "      display:flex;\n",
              "      gap: 12px;\n",
              "    }\n",
              "\n",
              "    .colab-df-convert {\n",
              "      background-color: #E8F0FE;\n",
              "      border: none;\n",
              "      border-radius: 50%;\n",
              "      cursor: pointer;\n",
              "      display: none;\n",
              "      fill: #1967D2;\n",
              "      height: 32px;\n",
              "      padding: 0 0 0 0;\n",
              "      width: 32px;\n",
              "    }\n",
              "\n",
              "    .colab-df-convert:hover {\n",
              "      background-color: #E2EBFA;\n",
              "      box-shadow: 0px 1px 2px rgba(60, 64, 67, 0.3), 0px 1px 3px 1px rgba(60, 64, 67, 0.15);\n",
              "      fill: #174EA6;\n",
              "    }\n",
              "\n",
              "    .colab-df-buttons div {\n",
              "      margin-bottom: 4px;\n",
              "    }\n",
              "\n",
              "    [theme=dark] .colab-df-convert {\n",
              "      background-color: #3B4455;\n",
              "      fill: #D2E3FC;\n",
              "    }\n",
              "\n",
              "    [theme=dark] .colab-df-convert:hover {\n",
              "      background-color: #434B5C;\n",
              "      box-shadow: 0px 1px 3px 1px rgba(0, 0, 0, 0.15);\n",
              "      filter: drop-shadow(0px 1px 2px rgba(0, 0, 0, 0.3));\n",
              "      fill: #FFFFFF;\n",
              "    }\n",
              "  </style>\n",
              "\n",
              "    <script>\n",
              "      const buttonEl =\n",
              "        document.querySelector('#df-84c47794-87b3-4cb4-9576-bdfa4649a773 button.colab-df-convert');\n",
              "      buttonEl.style.display =\n",
              "        google.colab.kernel.accessAllowed ? 'block' : 'none';\n",
              "\n",
              "      async function convertToInteractive(key) {\n",
              "        const element = document.querySelector('#df-84c47794-87b3-4cb4-9576-bdfa4649a773');\n",
              "        const dataTable =\n",
              "          await google.colab.kernel.invokeFunction('convertToInteractive',\n",
              "                                                    [key], {});\n",
              "        if (!dataTable) return;\n",
              "\n",
              "        const docLinkHtml = 'Like what you see? Visit the ' +\n",
              "          '<a target=\"_blank\" href=https://colab.research.google.com/notebooks/data_table.ipynb>data table notebook</a>'\n",
              "          + ' to learn more about interactive tables.';\n",
              "        element.innerHTML = '';\n",
              "        dataTable['output_type'] = 'display_data';\n",
              "        await google.colab.output.renderOutput(dataTable, element);\n",
              "        const docLink = document.createElement('div');\n",
              "        docLink.innerHTML = docLinkHtml;\n",
              "        element.appendChild(docLink);\n",
              "      }\n",
              "    </script>\n",
              "  </div>\n",
              "\n",
              "\n",
              "    <div id=\"df-27b13e13-47a8-49f7-a9f5-30c0fdb7284f\">\n",
              "      <button class=\"colab-df-quickchart\" onclick=\"quickchart('df-27b13e13-47a8-49f7-a9f5-30c0fdb7284f')\"\n",
              "                title=\"Suggest charts\"\n",
              "                style=\"display:none;\">\n",
              "\n",
              "<svg xmlns=\"http://www.w3.org/2000/svg\" height=\"24px\"viewBox=\"0 0 24 24\"\n",
              "     width=\"24px\">\n",
              "    <g>\n",
              "        <path d=\"M19 3H5c-1.1 0-2 .9-2 2v14c0 1.1.9 2 2 2h14c1.1 0 2-.9 2-2V5c0-1.1-.9-2-2-2zM9 17H7v-7h2v7zm4 0h-2V7h2v10zm4 0h-2v-4h2v4z\"/>\n",
              "    </g>\n",
              "</svg>\n",
              "      </button>\n",
              "\n",
              "<style>\n",
              "  .colab-df-quickchart {\n",
              "      --bg-color: #E8F0FE;\n",
              "      --fill-color: #1967D2;\n",
              "      --hover-bg-color: #E2EBFA;\n",
              "      --hover-fill-color: #174EA6;\n",
              "      --disabled-fill-color: #AAA;\n",
              "      --disabled-bg-color: #DDD;\n",
              "  }\n",
              "\n",
              "  [theme=dark] .colab-df-quickchart {\n",
              "      --bg-color: #3B4455;\n",
              "      --fill-color: #D2E3FC;\n",
              "      --hover-bg-color: #434B5C;\n",
              "      --hover-fill-color: #FFFFFF;\n",
              "      --disabled-bg-color: #3B4455;\n",
              "      --disabled-fill-color: #666;\n",
              "  }\n",
              "\n",
              "  .colab-df-quickchart {\n",
              "    background-color: var(--bg-color);\n",
              "    border: none;\n",
              "    border-radius: 50%;\n",
              "    cursor: pointer;\n",
              "    display: none;\n",
              "    fill: var(--fill-color);\n",
              "    height: 32px;\n",
              "    padding: 0;\n",
              "    width: 32px;\n",
              "  }\n",
              "\n",
              "  .colab-df-quickchart:hover {\n",
              "    background-color: var(--hover-bg-color);\n",
              "    box-shadow: 0 1px 2px rgba(60, 64, 67, 0.3), 0 1px 3px 1px rgba(60, 64, 67, 0.15);\n",
              "    fill: var(--button-hover-fill-color);\n",
              "  }\n",
              "\n",
              "  .colab-df-quickchart-complete:disabled,\n",
              "  .colab-df-quickchart-complete:disabled:hover {\n",
              "    background-color: var(--disabled-bg-color);\n",
              "    fill: var(--disabled-fill-color);\n",
              "    box-shadow: none;\n",
              "  }\n",
              "\n",
              "  .colab-df-spinner {\n",
              "    border: 2px solid var(--fill-color);\n",
              "    border-color: transparent;\n",
              "    border-bottom-color: var(--fill-color);\n",
              "    animation:\n",
              "      spin 1s steps(1) infinite;\n",
              "  }\n",
              "\n",
              "  @keyframes spin {\n",
              "    0% {\n",
              "      border-color: transparent;\n",
              "      border-bottom-color: var(--fill-color);\n",
              "      border-left-color: var(--fill-color);\n",
              "    }\n",
              "    20% {\n",
              "      border-color: transparent;\n",
              "      border-left-color: var(--fill-color);\n",
              "      border-top-color: var(--fill-color);\n",
              "    }\n",
              "    30% {\n",
              "      border-color: transparent;\n",
              "      border-left-color: var(--fill-color);\n",
              "      border-top-color: var(--fill-color);\n",
              "      border-right-color: var(--fill-color);\n",
              "    }\n",
              "    40% {\n",
              "      border-color: transparent;\n",
              "      border-right-color: var(--fill-color);\n",
              "      border-top-color: var(--fill-color);\n",
              "    }\n",
              "    60% {\n",
              "      border-color: transparent;\n",
              "      border-right-color: var(--fill-color);\n",
              "    }\n",
              "    80% {\n",
              "      border-color: transparent;\n",
              "      border-right-color: var(--fill-color);\n",
              "      border-bottom-color: var(--fill-color);\n",
              "    }\n",
              "    90% {\n",
              "      border-color: transparent;\n",
              "      border-bottom-color: var(--fill-color);\n",
              "    }\n",
              "  }\n",
              "</style>\n",
              "\n",
              "      <script>\n",
              "        async function quickchart(key) {\n",
              "          const quickchartButtonEl =\n",
              "            document.querySelector('#' + key + ' button');\n",
              "          quickchartButtonEl.disabled = true;  // To prevent multiple clicks.\n",
              "          quickchartButtonEl.classList.add('colab-df-spinner');\n",
              "          try {\n",
              "            const charts = await google.colab.kernel.invokeFunction(\n",
              "                'suggestCharts', [key], {});\n",
              "          } catch (error) {\n",
              "            console.error('Error during call to suggestCharts:', error);\n",
              "          }\n",
              "          quickchartButtonEl.classList.remove('colab-df-spinner');\n",
              "          quickchartButtonEl.classList.add('colab-df-quickchart-complete');\n",
              "        }\n",
              "        (() => {\n",
              "          let quickchartButtonEl =\n",
              "            document.querySelector('#df-27b13e13-47a8-49f7-a9f5-30c0fdb7284f button');\n",
              "          quickchartButtonEl.style.display =\n",
              "            google.colab.kernel.accessAllowed ? 'block' : 'none';\n",
              "        })();\n",
              "      </script>\n",
              "    </div>\n",
              "\n",
              "    </div>\n",
              "  </div>\n"
            ],
            "application/vnd.google.colaboratory.intrinsic+json": {
              "type": "dataframe"
            }
          },
          "metadata": {},
          "execution_count": 1
        },
        {
          "output_type": "stream",
          "name": "stdout",
          "text": [
            "Warning: total number of rows (416809) exceeds max_rows (20000). Limiting to first (20000) rows.\n",
            "Warning: total number of rows (416809) exceeds max_rows (20000). Limiting to first (20000) rows.\n"
          ]
        }
      ],
      "source": [
        "import pandas as pd\n",
        "pd.read_csv(\"emotions.csv\")\n",
        "\n"
      ]
    },
    {
      "cell_type": "code",
      "source": [
        "df = pd.read_csv(\"emotions.csv\")\n",
        "\n",
        "print(df.head())\n",
        "\n",
        "print(df.info())"
      ],
      "metadata": {
        "colab": {
          "base_uri": "https://localhost:8080/"
        },
        "id": "xCGk5KHiRj6x",
        "outputId": "59bc1b2c-31a2-4395-e562-bf42da26ad7e"
      },
      "execution_count": null,
      "outputs": [
        {
          "output_type": "stream",
          "name": "stdout",
          "text": [
            "                                                text  label\n",
            "0      i just feel really helpless and heavy hearted      4\n",
            "1  ive enjoyed being able to slouch about relax a...      0\n",
            "2  i gave up my internship with the dmrg and am f...      4\n",
            "3                         i dont know i feel so lost      0\n",
            "4  i am a kindergarten teacher and i am thoroughl...      4\n",
            "<class 'pandas.core.frame.DataFrame'>\n",
            "RangeIndex: 416809 entries, 0 to 416808\n",
            "Data columns (total 2 columns):\n",
            " #   Column  Non-Null Count   Dtype \n",
            "---  ------  --------------   ----- \n",
            " 0   text    416809 non-null  object\n",
            " 1   label   416809 non-null  int64 \n",
            "dtypes: int64(1), object(1)\n",
            "memory usage: 6.4+ MB\n",
            "None\n"
          ]
        }
      ]
    },
    {
      "cell_type": "code",
      "source": [
        "import pandas as pd\n",
        "import numpy as np\n",
        "import re\n",
        "import nltk\n",
        "from nltk.corpus import stopwords\n",
        "from sklearn.model_selection import train_test_split\n",
        "from sklearn.preprocessing import LabelEncoder\n",
        "from sklearn.feature_extraction.text import TfidfVectorizer\n",
        "from sklearn.svm import SVC\n",
        "from sklearn.metrics import classification_report, accuracy_score, confusion_matrix\n",
        "import seaborn as sns\n",
        "import matplotlib.pyplot as plt\n",
        "\n",
        "nltk.download('stopwords')\n"
      ],
      "metadata": {
        "colab": {
          "base_uri": "https://localhost:8080/"
        },
        "id": "H7GyTkymRxAm",
        "outputId": "393c7d9b-1f00-463e-d9a5-58e93c1e4eb5"
      },
      "execution_count": null,
      "outputs": [
        {
          "output_type": "stream",
          "name": "stderr",
          "text": [
            "[nltk_data] Downloading package stopwords to /root/nltk_data...\n",
            "[nltk_data]   Package stopwords is already up-to-date!\n"
          ]
        },
        {
          "output_type": "execute_result",
          "data": {
            "text/plain": [
              "True"
            ]
          },
          "metadata": {},
          "execution_count": 3
        }
      ]
    },
    {
      "cell_type": "code",
      "source": [
        "print(df['label'].value_counts())\n"
      ],
      "metadata": {
        "colab": {
          "base_uri": "https://localhost:8080/"
        },
        "id": "kbo-YwhgSc2v",
        "outputId": "4b2d3492-376c-4a49-a9c4-a763459de111"
      },
      "execution_count": null,
      "outputs": [
        {
          "output_type": "stream",
          "name": "stdout",
          "text": [
            "label\n",
            "1    141067\n",
            "0    121187\n",
            "3     57317\n",
            "4     47712\n",
            "2     34554\n",
            "5     14972\n",
            "Name: count, dtype: int64\n"
          ]
        }
      ]
    },
    {
      "cell_type": "markdown",
      "source": [
        "# **Mapping label integers to emotions**"
      ],
      "metadata": {
        "id": "g4dQYXrxtPMs"
      }
    },
    {
      "cell_type": "code",
      "source": [
        "label_map = {\n",
        "    0: 'sadness',\n",
        "    1: 'joy',\n",
        "    2: 'love',\n",
        "    3: 'anger',\n",
        "    4: 'fear',\n",
        "    5: 'surprise'\n",
        "}\n",
        "df['emotion'] = df['label'].map(label_map)\n"
      ],
      "metadata": {
        "id": "ge82hPKxSkS5"
      },
      "execution_count": null,
      "outputs": []
    },
    {
      "cell_type": "code",
      "source": [
        "stop_words = set(stopwords.words('english'))\n",
        "\n",
        "def preprocess(text):\n",
        "    text = re.sub(r\"http\\S+\", \"\", text)\n",
        "    text = re.sub(r\"[^a-zA-Z\\s]\", \"\", text)\n",
        "    text = text.lower()\n",
        "    tokens = text.split()\n",
        "    tokens = [word for word in tokens if word not in stop_words]\n",
        "    return \" \".join(tokens)\n",
        "\n",
        "df['clean_text'] = df['text'].apply(preprocess)\n"
      ],
      "metadata": {
        "id": "s0P7R-EJS1JQ"
      },
      "execution_count": null,
      "outputs": []
    },
    {
      "cell_type": "code",
      "source": [
        "vectorizer = TfidfVectorizer(max_features=5000)\n",
        "X = vectorizer.fit_transform(df['clean_text'])\n"
      ],
      "metadata": {
        "id": "6RbPByRZS4eX"
      },
      "execution_count": null,
      "outputs": []
    },
    {
      "cell_type": "code",
      "source": [
        "le = LabelEncoder()\n",
        "y = le.fit_transform(df['emotion'])\n"
      ],
      "metadata": {
        "id": "c1lo28PDS94n"
      },
      "execution_count": null,
      "outputs": []
    },
    {
      "cell_type": "code",
      "source": [
        "import numpy as np\n",
        "unique, counts = np.unique(y, return_counts=True)\n",
        "for label, count in zip(unique, counts):\n",
        "    print(f\"Label {label} ({le.classes_[label]}): {count} samples\")\n"
      ],
      "metadata": {
        "colab": {
          "base_uri": "https://localhost:8080/"
        },
        "id": "7GTZi4V8ULlW",
        "outputId": "c7366ff0-0230-4721-877b-b74b319e8f17"
      },
      "execution_count": null,
      "outputs": [
        {
          "output_type": "stream",
          "name": "stdout",
          "text": [
            "Label 0 (anger): 57317 samples\n",
            "Label 1 (fear): 47712 samples\n",
            "Label 2 (joy): 141067 samples\n",
            "Label 3 (love): 34554 samples\n",
            "Label 4 (sadness): 121187 samples\n",
            "Label 5 (surprise): 14972 samples\n"
          ]
        }
      ]
    },
    {
      "cell_type": "markdown",
      "source": [
        "# **label encoding and vectorization**\n"
      ],
      "metadata": {
        "id": "J6BelJkCtnZh"
      }
    },
    {
      "cell_type": "code",
      "source": [
        "df_filtered = df.copy()\n",
        "emotion_counts = df_filtered['emotion'].value_counts()\n",
        "\n",
        "valid_emotions = emotion_counts[emotion_counts >= 2].index\n",
        "df_filtered = df_filtered[df_filtered['emotion'].isin(valid_emotions)]\n",
        "\n",
        "y = le.fit_transform(df_filtered['emotion'])\n",
        "X = vectorizer.fit_transform(df_filtered['clean_text'])\n"
      ],
      "metadata": {
        "id": "hAtdFXJiUNN4"
      },
      "execution_count": null,
      "outputs": []
    },
    {
      "cell_type": "markdown",
      "source": [
        "# **Training and testing**"
      ],
      "metadata": {
        "id": "s9lvLB4ntymP"
      }
    },
    {
      "cell_type": "code",
      "source": [
        "from sklearn.model_selection import train_test_split\n",
        "\n",
        "X_train, X_test, y_train, y_test = train_test_split(\n",
        "    X, y, test_size=0.2, random_state=42, stratify=y\n",
        ")\n"
      ],
      "metadata": {
        "id": "Wa596q6HUR8k"
      },
      "execution_count": null,
      "outputs": []
    },
    {
      "cell_type": "markdown",
      "source": [
        "# **Accuracy and classification report of Linear SVC**\n"
      ],
      "metadata": {
        "id": "dssb1RMst5PZ"
      }
    },
    {
      "cell_type": "code",
      "source": [
        "\n",
        "from sklearn.svm import LinearSVC\n",
        "\n",
        "model = LinearSVC()\n",
        "model.fit(X_train, y_train)\n",
        "y_pred = model.predict(X_test)\n",
        "\n",
        "\n",
        "from sklearn.metrics import classification_report, accuracy_score, confusion_matrix\n",
        "\n",
        "print(f\"Accuracy: {accuracy_score(y_test, y_pred):.4f}\")\n",
        "print(classification_report(y_test, y_pred, target_names=le.classes_))\n",
        "\n",
        "import matplotlib.pyplot as plt\n",
        "import seaborn as sns\n",
        "\n",
        "cm = confusion_matrix(y_test, y_pred)\n",
        "plt.figure(figsize=(6,4))\n",
        "sns.heatmap(cm, annot=True, fmt='d', cmap='Blues',\n",
        "            xticklabels=le.classes_, yticklabels=le.classes_)\n",
        "plt.title(\"Confusion Matrix (LinearSVC)\")\n",
        "plt.xlabel(\"Predicted\")\n",
        "plt.ylabel(\"Actual\")\n",
        "plt.show()\n"
      ],
      "metadata": {
        "colab": {
          "base_uri": "https://localhost:8080/",
          "height": 653
        },
        "id": "mCXkCfZPTBD3",
        "outputId": "0c850cce-2fa1-4f24-b1e2-7c4b085df3d9"
      },
      "execution_count": null,
      "outputs": [
        {
          "output_type": "stream",
          "name": "stdout",
          "text": [
            "Accuracy: 0.8980\n",
            "              precision    recall  f1-score   support\n",
            "\n",
            "       anger       0.90      0.90      0.90     11463\n",
            "        fear       0.84      0.85      0.84      9542\n",
            "         joy       0.92      0.93      0.92     28214\n",
            "        love       0.80      0.78      0.79      6911\n",
            "     sadness       0.94      0.94      0.94     24238\n",
            "    surprise       0.73      0.71      0.72      2994\n",
            "\n",
            "    accuracy                           0.90     83362\n",
            "   macro avg       0.86      0.85      0.85     83362\n",
            "weighted avg       0.90      0.90      0.90     83362\n",
            "\n"
          ]
        },
        {
          "output_type": "display_data",
          "data": {
            "text/plain": [
              "<Figure size 600x400 with 2 Axes>"
            ],
            "image/png": "[encoded data removed]"
          },
          "metadata": {}
        }
      ]
    },
    {
      "cell_type": "markdown",
      "source": [
        "# **Example input and predicting of Linear SVC**\n"
      ],
      "metadata": {
        "id": "G8CuAYdDuKpP"
      }
    },
    {
      "cell_type": "code",
      "source": [
        "test_sentence = \"i wish you could read my thoughts sometimes i feel so amazed and lucky that i don t know if any words could ever describe how i feel about you\"\n",
        "\n",
        "X_input = vectorizer.transform([test_sentence])\n",
        "\n",
        "\n",
        "predicted_label = model.predict(X_input)\n",
        "\n",
        "emotion = le.inverse_transform(predicted_label)\n",
        "\n",
        "print(\"🧠 Predicted Emotion:\", emotion[0])\n"
      ],
      "metadata": {
        "colab": {
          "base_uri": "https://localhost:8080/"
        },
        "id": "LRqkOzGJl4cP",
        "outputId": "44c6b4b3-cd01-4cf2-d883-fd9e8f625a60"
      },
      "execution_count": null,
      "outputs": [
        {
          "output_type": "stream",
          "name": "stdout",
          "text": [
            "🧠 Predicted Emotion: surprise\n"
          ]
        }
      ]
    },
    {
      "cell_type": "markdown",
      "source": [
        "# Training SVC with RBF kernel and Polynomial **kernel**\n"
      ],
      "metadata": {
        "id": "Ehm0_Kf-uZVe"
      }
    },
    {
      "cell_type": "code",
      "source": [
        "from sklearn.svm import SVC\n",
        "from sklearn.metrics import classification_report, accuracy_score\n",
        "import numpy as np\n",
        "\n",
        "subset_size = 10000\n",
        "X_sub, y_sub = X[:subset_size], y[:subset_size]\n",
        "\n",
        "from sklearn.model_selection import train_test_split\n",
        "X_train_sub, X_test_sub, y_train_sub, y_test_sub = train_test_split(\n",
        "    X_sub, y_sub, test_size=0.2, random_state=42, stratify=y_sub)\n",
        "\n",
        "print(\"\\n🔵 Training SVC with RBF kernel...\")\n",
        "rbf_model = SVC(kernel='rbf')\n",
        "rbf_model.fit(X_train_sub, y_train_sub)\n",
        "y_pred_rbf = rbf_model.predict(X_test_sub)\n",
        "print(\"✅ RBF Accuracy:\", accuracy_score(y_test_sub, y_pred_rbf))\n",
        "print(classification_report(y_test_sub, y_pred_rbf, target_names=le.classes_))\n",
        "\n",
        "print(\"\\n🔴 Training SVC with Polynomial kernel...\")\n",
        "poly_model = SVC(kernel='poly', degree=3)\n",
        "poly_model.fit(X_train_sub, y_train_sub)\n",
        "y_pred_poly = poly_model.predict(X_test_sub)\n",
        "print(\"✅ Poly Accuracy:\", accuracy_score(y_test_sub, y_pred_poly))\n",
        "print(classification_report(y_test_sub, y_pred_poly, target_names=le.classes_))\n"
      ],
      "metadata": {
        "colab": {
          "base_uri": "https://localhost:8080/"
        },
        "id": "AZfJHyL_nenf",
        "outputId": "819c0fd7-e54f-44d6-e85e-92bbf1f8f853"
      },
      "execution_count": null,
      "outputs": [
        {
          "output_type": "stream",
          "name": "stdout",
          "text": [
            "\n",
            "🔵 Training SVC with RBF kernel...\n",
            "✅ RBF Accuracy: 0.808\n",
            "              precision    recall  f1-score   support\n",
            "\n",
            "       anger       0.91      0.70      0.79       273\n",
            "        fear       0.82      0.63      0.72       230\n",
            "         joy       0.74      0.96      0.84       679\n",
            "        love       0.90      0.41      0.56       158\n",
            "     sadness       0.85      0.90      0.88       587\n",
            "    surprise       0.89      0.42      0.57        73\n",
            "\n",
            "    accuracy                           0.81      2000\n",
            "   macro avg       0.85      0.67      0.73      2000\n",
            "weighted avg       0.82      0.81      0.80      2000\n",
            "\n",
            "\n",
            "🔴 Training SVC with Polynomial kernel...\n",
            "✅ Poly Accuracy: 0.568\n",
            "              precision    recall  f1-score   support\n",
            "\n",
            "       anger       0.96      0.16      0.28       273\n",
            "        fear       0.88      0.15      0.26       230\n",
            "         joy       0.46      0.99      0.63       679\n",
            "        love       1.00      0.09      0.16       158\n",
            "     sadness       0.86      0.61      0.71       587\n",
            "    surprise       0.67      0.11      0.19        73\n",
            "\n",
            "    accuracy                           0.57      2000\n",
            "   macro avg       0.80      0.35      0.37      2000\n",
            "weighted avg       0.74      0.57      0.51      2000\n",
            "\n"
          ]
        }
      ]
    },
    {
      "cell_type": "markdown",
      "source": [
        "# **Confusion Matrix of RBF Kernel**"
      ],
      "metadata": {
        "id": "EsmwmfZ3u0j3"
      }
    },
    {
      "cell_type": "code",
      "source": [
        "from sklearn.metrics import confusion_matrix\n",
        "import matplotlib.pyplot as plt\n",
        "import seaborn as sns\n",
        "\n",
        "cm_rbf = confusion_matrix(y_test_sub, y_pred_rbf)\n",
        "plt.figure(figsize=(6, 4))\n",
        "sns.heatmap(cm_rbf, annot=True, fmt='d', cmap='Blues',\n",
        "            xticklabels=le.classes_, yticklabels=le.classes_)\n",
        "plt.title(\"Confusion Matrix (RBF Kernel)\")\n",
        "plt.xlabel(\"Predicted\")\n",
        "plt.ylabel(\"Actual\")\n",
        "plt.show()\n"
      ],
      "metadata": {
        "colab": {
          "base_uri": "https://localhost:8080/",
          "height": 410
        },
        "id": "zjDCEZHgn6Ko",
        "outputId": "c039fb60-2281-40bb-cd18-6cc4210c638f"
      },
      "execution_count": null,
      "outputs": [
        {
          "output_type": "display_data",
          "data": {
            "text/plain": [
              "<Figure size 600x400 with 2 Axes>"
            ],
            "image/png": "[encoded data removed]"
          },
          "metadata": {}
        }
      ]
    },
    {
      "cell_type": "markdown",
      "source": [
        "# **input testing of RBF kernel**"
      ],
      "metadata": {
        "id": "NQjRmikMu48l"
      }
    },
    {
      "cell_type": "code",
      "source": [
        "test_sentence = \"I'm feeling very anxious and nervous about tomorrow.\"\n",
        "# Transform sentence using your existing vectorizer\n",
        "X_input = vectorizer.transform([test_sentence])\n",
        "pred_rbf = rbf_model.predict(X_input)\n",
        "emotion_rbf = le.inverse_transform(pred_rbf)\n",
        "print(\"🔵 RBF Kernel Prediction:\", emotion_rbf[0])\n"
      ],
      "metadata": {
        "colab": {
          "base_uri": "https://localhost:8080/"
        },
        "id": "5od0kzhZohhI",
        "outputId": "f8f12e81-b5fd-4bfa-d142-c5dedfdcddb6"
      },
      "execution_count": null,
      "outputs": [
        {
          "output_type": "stream",
          "name": "stdout",
          "text": [
            "🔵 RBF Kernel Prediction: fear\n"
          ]
        }
      ]
    },
    {
      "cell_type": "markdown",
      "source": [],
      "metadata": {
        "id": "bezAG_JWu_LK"
      }
    },
    {
      "cell_type": "markdown",
      "source": [
        "# **Confusion Matrix of Polynomial Kernel**"
      ],
      "metadata": {
        "id": "xtNqdLFAvBl7"
      }
    },
    {
      "cell_type": "code",
      "source": [
        "cm_poly = confusion_matrix(y_test_sub, y_pred_poly)\n",
        "plt.figure(figsize=(6, 4))\n",
        "sns.heatmap(cm_poly, annot=True, fmt='d', cmap='Purples',\n",
        "            xticklabels=le.classes_, yticklabels=le.classes_)\n",
        "plt.title(\"Confusion Matrix (Polynomial Kernel)\")\n",
        "plt.xlabel(\"Predicted\")\n",
        "plt.ylabel(\"Actual\")\n",
        "plt.show()\n"
      ],
      "metadata": {
        "colab": {
          "base_uri": "https://localhost:8080/",
          "height": 410
        },
        "id": "U1YOhUyio-FF",
        "outputId": "6b40a380-56bf-4b1f-8260-53023f983b6d"
      },
      "execution_count": null,
      "outputs": [
        {
          "output_type": "display_data",
          "data": {
            "text/plain": [
              "<Figure size 600x400 with 2 Axes>"
            ],
            "image/png": "[encoded data removed]"
          },
          "metadata": {}
        }
      ]
    },
    {
      "cell_type": "markdown",
      "source": [
        "# **Input testing of Polynomial Kernel**"
      ],
      "metadata": {
        "id": "oaN7YvV6vE71"
      }
    },
    {
      "cell_type": "code",
      "source": [
        "test_sentence = \"I'm feeling very anxious and nervous about tomorrow.\"\n",
        "X_input = vectorizer.transform([test_sentence])\n",
        "\n",
        "pred_poly = poly_model.predict(X_input)\n",
        "emotion_poly = le.inverse_transform(pred_poly)\n",
        "print(\"🔴 Polynomial Kernel Prediction:\", emotion_poly[0])\n"
      ],
      "metadata": {
        "colab": {
          "base_uri": "https://localhost:8080/"
        },
        "id": "tJREcqWopNS6",
        "outputId": "970932f1-261a-4ba1-a561-c7e0af52f7b8"
      },
      "execution_count": null,
      "outputs": [
        {
          "output_type": "stream",
          "name": "stdout",
          "text": [
            "🔴 Polynomial Kernel Prediction: fear\n"
          ]
        }
      ]
    }
  ]
}